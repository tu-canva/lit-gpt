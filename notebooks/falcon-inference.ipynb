{
 "cells": [
  {
   "attachments": {},
   "cell_type": "markdown",
   "metadata": {},
   "source": [
    "You can use this notebook to generate texts using Falcon."
   ]
  },
  {
   "cell_type": "code",
   "execution_count": null,
   "metadata": {
    "colab": {
     "base_uri": "https://localhost:8080/"
    },
    "id": "6ixZpWQf-MFZ",
    "outputId": "52be5ded-0640-4510-b605-13672f35893a"
   },
   "outputs": [],
   "source": [
    "# clone Lit-GPT\n",
    "!git clone https://github.com/Lightning-AI/lit-gpt\n",
    "%cd lit-gpt/"
   ]
  },
  {
   "cell_type": "code",
   "execution_count": null,
   "metadata": {
    "id": "YJgQZwzi-UQ2"
   },
   "outputs": [],
   "source": [
    "# install the dependencies\n",
    "!pip install huggingface_hub tokenizers sentencepiece -r requirements.txt -q"
   ]
  },
  {
   "cell_type": "code",
   "execution_count": null,
   "metadata": {
    "id": "JVnohWmg-afB"
   },
   "outputs": [],
   "source": [
    "# download the weights\n",
    "!python scripts/download.py --repo_id tiiuae/falcon-7b\n",
    "!python scripts/convert_hf_checkpoint.py --checkpoint_dir checkpoints/tiiuae/falcon-7b"
   ]
  },
  {
   "cell_type": "code",
   "execution_count": null,
   "metadata": {
    "colab": {
     "base_uri": "https://localhost:8080/"
    },
    "id": "pfF2Il6N-nM1",
    "outputId": "486d0c66-b071-4c48-8590-55ffe565d0e7"
   },
   "outputs": [],
   "source": [
    "# run inference\n",
    "!python generate/base.py \\\n",
    "        --prompt \"Hello, my name is\" \\\n",
    "        --checkpoint_dir checkpoints/tiiuae/falcon-7b \\\n",
    "        --quantize bnb.int8"
   ]
  }
 ],
 "metadata": {
  "accelerator": "GPU",
  "colab": {
   "gpuType": "T4",
   "provenance": []
  },
  "kernelspec": {
   "display_name": "Python 3",
   "name": "python3"
  },
  "language_info": {
   "name": "python"
  }
 },
 "nbformat": 4,
 "nbformat_minor": 0
}
